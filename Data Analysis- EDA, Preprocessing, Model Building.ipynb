{
 "cells": [
  {
   "cell_type": "code",
   "execution_count": 1,
   "metadata": {},
   "outputs": [],
   "source": [
    "import pandas as pd\n",
    "import datetime\n",
    "import seaborn as sns\n",
    "from matplotlib import pyplot as plt\n",
    "import numpy as np\n",
    "from sklearn.metrics import accuracy_score, roc_auc_score, f1_score"
   ]
  },
  {
   "cell_type": "code",
   "execution_count": 2,
   "metadata": {},
   "outputs": [],
   "source": [
    "import warnings\n",
    "warnings.filterwarnings('ignore')"
   ]
  },
  {
   "cell_type": "code",
   "execution_count": 3,
   "metadata": {},
   "outputs": [],
   "source": [
    "df=pd.read_csv(r\"C:\\Users\\DELL\\Documents\\Data\\Data.csv\") # Importing Assignment Data"
   ]
  },
  {
   "cell_type": "code",
   "execution_count": 4,
   "metadata": {},
   "outputs": [],
   "source": [
    "df1=pd.read_csv(r\"C:\\Users\\DELL\\Documents\\Data\\Delivery_Partners_Data.csv\") # Import Delivery Partner Data"
   ]
  },
  {
   "cell_type": "code",
   "execution_count": 5,
   "metadata": {},
   "outputs": [
    {
     "data": {
      "text/html": [
       "<div>\n",
       "<style scoped>\n",
       "    .dataframe tbody tr th:only-of-type {\n",
       "        vertical-align: middle;\n",
       "    }\n",
       "\n",
       "    .dataframe tbody tr th {\n",
       "        vertical-align: top;\n",
       "    }\n",
       "\n",
       "    .dataframe thead th {\n",
       "        text-align: right;\n",
       "    }\n",
       "</style>\n",
       "<table border=\"1\" class=\"dataframe\">\n",
       "  <thead>\n",
       "    <tr style=\"text-align: right;\">\n",
       "      <th></th>\n",
       "      <th>ORDER_ID</th>\n",
       "      <th>DE_ID</th>\n",
       "      <th>ASSIGNMENT_START_TIME</th>\n",
       "      <th>ASSIGNMENT_END_TIME</th>\n",
       "      <th>reject_ind</th>\n",
       "      <th>reject_type</th>\n",
       "      <th>PLACED_TIME</th>\n",
       "      <th>DELIVERED_TIME</th>\n",
       "      <th>LASTMILE_DISTANCE</th>\n",
       "      <th>FIRSTMILE_DISTANCE</th>\n",
       "      <th>LAST_MILE_TIME_PREDICTED</th>\n",
       "      <th>PAYOUT_MADE_TO_DE</th>\n",
       "      <th>NUM_PING_COUNT_LAST10MIN</th>\n",
       "      <th>LAST_PING_TIME_LAST10MIN</th>\n",
       "      <th>CUSTOMER_ZONE</th>\n",
       "      <th>CUSTOMER_LAT</th>\n",
       "      <th>CUSTOMER_LNG</th>\n",
       "    </tr>\n",
       "  </thead>\n",
       "  <tbody>\n",
       "    <tr>\n",
       "      <th>0</th>\n",
       "      <td>2745</td>\n",
       "      <td>180976</td>\n",
       "      <td>2021-02-13 03:08:24.000</td>\n",
       "      <td>2021-02-13 03:38:26.000</td>\n",
       "      <td>0</td>\n",
       "      <td>NaN</td>\n",
       "      <td>2021-02-13 03:01:11.686</td>\n",
       "      <td>2021-02-13 03:43:26.000</td>\n",
       "      <td>320.9</td>\n",
       "      <td>320.0</td>\n",
       "      <td>314.0</td>\n",
       "      <td>1810.0</td>\n",
       "      <td>63</td>\n",
       "      <td>2021-02-13 03:07:34.000</td>\n",
       "      <td>373.0</td>\n",
       "      <td>37.377569</td>\n",
       "      <td>72.832560</td>\n",
       "    </tr>\n",
       "    <tr>\n",
       "      <th>1</th>\n",
       "      <td>9462</td>\n",
       "      <td>280243</td>\n",
       "      <td>2021-02-14 05:06:40.000</td>\n",
       "      <td>2021-02-14 05:31:04.000</td>\n",
       "      <td>0</td>\n",
       "      <td>NaN</td>\n",
       "      <td>2021-02-14 04:54:25.832</td>\n",
       "      <td>2021-02-14 05:36:04.000</td>\n",
       "      <td>516.8</td>\n",
       "      <td>342.5</td>\n",
       "      <td>451.0</td>\n",
       "      <td>3210.0</td>\n",
       "      <td>27</td>\n",
       "      <td>2021-02-14 05:06:40.000</td>\n",
       "      <td>373.0</td>\n",
       "      <td>37.380613</td>\n",
       "      <td>72.796909</td>\n",
       "    </tr>\n",
       "    <tr>\n",
       "      <th>2</th>\n",
       "      <td>14071</td>\n",
       "      <td>339813</td>\n",
       "      <td>2021-02-15 02:22:40.000</td>\n",
       "      <td>2021-02-15 02:44:02.000</td>\n",
       "      <td>0</td>\n",
       "      <td>NaN</td>\n",
       "      <td>2021-02-15 02:01:17.864</td>\n",
       "      <td>2021-02-15 02:49:02.000</td>\n",
       "      <td>459.5</td>\n",
       "      <td>418.7</td>\n",
       "      <td>443.0</td>\n",
       "      <td>2910.0</td>\n",
       "      <td>57</td>\n",
       "      <td>2021-02-15 02:22:35.000</td>\n",
       "      <td>373.0</td>\n",
       "      <td>37.372032</td>\n",
       "      <td>72.805871</td>\n",
       "    </tr>\n",
       "    <tr>\n",
       "      <th>3</th>\n",
       "      <td>14442</td>\n",
       "      <td>1315348</td>\n",
       "      <td>2021-02-15 03:01:25.000</td>\n",
       "      <td>2021-02-15 03:15:02.000</td>\n",
       "      <td>0</td>\n",
       "      <td>NaN</td>\n",
       "      <td>2021-02-15 02:43:41.129</td>\n",
       "      <td>2021-02-15 03:20:02.000</td>\n",
       "      <td>376.4</td>\n",
       "      <td>332.9</td>\n",
       "      <td>367.3</td>\n",
       "      <td>3210.0</td>\n",
       "      <td>41</td>\n",
       "      <td>2021-02-15 03:00:28.000</td>\n",
       "      <td>373.0</td>\n",
       "      <td>37.371380</td>\n",
       "      <td>72.819992</td>\n",
       "    </tr>\n",
       "    <tr>\n",
       "      <th>4</th>\n",
       "      <td>14515</td>\n",
       "      <td>1186729</td>\n",
       "      <td>2021-02-15 03:12:24.000</td>\n",
       "      <td>2021-02-15 03:50:24.000</td>\n",
       "      <td>0</td>\n",
       "      <td>NaN</td>\n",
       "      <td>2021-02-15 02:48:17.074</td>\n",
       "      <td>2021-02-15 03:55:24.000</td>\n",
       "      <td>414.5</td>\n",
       "      <td>334.1</td>\n",
       "      <td>413.2</td>\n",
       "      <td>3210.0</td>\n",
       "      <td>13</td>\n",
       "      <td>2021-02-15 03:12:09.000</td>\n",
       "      <td>373.0</td>\n",
       "      <td>37.369925</td>\n",
       "      <td>72.826764</td>\n",
       "    </tr>\n",
       "    <tr>\n",
       "      <th>5</th>\n",
       "      <td>14974</td>\n",
       "      <td>180976</td>\n",
       "      <td>2021-02-15 03:36:24.000</td>\n",
       "      <td>2021-02-15 03:54:31.000</td>\n",
       "      <td>0</td>\n",
       "      <td>NaN</td>\n",
       "      <td>2021-02-15 03:30:24.093</td>\n",
       "      <td>2021-02-15 03:59:31.000</td>\n",
       "      <td>370.4</td>\n",
       "      <td>414.5</td>\n",
       "      <td>378.2</td>\n",
       "      <td>3710.0</td>\n",
       "      <td>52</td>\n",
       "      <td>2021-02-15 03:36:19.000</td>\n",
       "      <td>373.0</td>\n",
       "      <td>37.368782</td>\n",
       "      <td>72.809458</td>\n",
       "    </tr>\n",
       "    <tr>\n",
       "      <th>6</th>\n",
       "      <td>15207</td>\n",
       "      <td>946929</td>\n",
       "      <td>2021-02-15 04:32:24.000</td>\n",
       "      <td>2021-02-15 04:47:49.000</td>\n",
       "      <td>0</td>\n",
       "      <td>NaN</td>\n",
       "      <td>2021-02-15 03:46:39.529</td>\n",
       "      <td>2021-02-15 04:52:49.000</td>\n",
       "      <td>410.3</td>\n",
       "      <td>320.0</td>\n",
       "      <td>376.8</td>\n",
       "      <td>3160.0</td>\n",
       "      <td>69</td>\n",
       "      <td>2021-02-15 04:32:07.000</td>\n",
       "      <td>373.0</td>\n",
       "      <td>37.386779</td>\n",
       "      <td>72.806458</td>\n",
       "    </tr>\n",
       "    <tr>\n",
       "      <th>7</th>\n",
       "      <td>17364</td>\n",
       "      <td>1182596</td>\n",
       "      <td>2021-02-15 18:50:40.000</td>\n",
       "      <td>2021-02-15 19:11:16.000</td>\n",
       "      <td>0</td>\n",
       "      <td>NaN</td>\n",
       "      <td>2021-02-15 18:48:57.460</td>\n",
       "      <td>2021-02-15 19:16:16.000</td>\n",
       "      <td>399.8</td>\n",
       "      <td>389.3</td>\n",
       "      <td>382.8</td>\n",
       "      <td>2410.0</td>\n",
       "      <td>9</td>\n",
       "      <td>2021-02-15 18:50:09.000</td>\n",
       "      <td>373.0</td>\n",
       "      <td>37.370959</td>\n",
       "      <td>72.834112</td>\n",
       "    </tr>\n",
       "    <tr>\n",
       "      <th>8</th>\n",
       "      <td>20180</td>\n",
       "      <td>977070</td>\n",
       "      <td>2021-02-16 03:07:54.000</td>\n",
       "      <td>2021-02-16 03:28:29.000</td>\n",
       "      <td>0</td>\n",
       "      <td>NaN</td>\n",
       "      <td>2021-02-16 03:05:04.748</td>\n",
       "      <td>2021-02-16 03:33:29.000</td>\n",
       "      <td>365.0</td>\n",
       "      <td>347.0</td>\n",
       "      <td>386.2</td>\n",
       "      <td>2660.0</td>\n",
       "      <td>7</td>\n",
       "      <td>2021-02-16 03:07:53.000</td>\n",
       "      <td>373.0</td>\n",
       "      <td>37.368161</td>\n",
       "      <td>72.794676</td>\n",
       "    </tr>\n",
       "    <tr>\n",
       "      <th>9</th>\n",
       "      <td>20240</td>\n",
       "      <td>977070</td>\n",
       "      <td>2021-02-16 03:28:40.000</td>\n",
       "      <td>2021-02-16 03:43:28.000</td>\n",
       "      <td>0</td>\n",
       "      <td>NaN</td>\n",
       "      <td>2021-02-16 03:10:33.130</td>\n",
       "      <td>2021-02-16 03:48:28.000</td>\n",
       "      <td>392.6</td>\n",
       "      <td>473.9</td>\n",
       "      <td>385.5</td>\n",
       "      <td>3460.0</td>\n",
       "      <td>5</td>\n",
       "      <td>2021-02-16 03:28:16.000</td>\n",
       "      <td>373.0</td>\n",
       "      <td>37.365348</td>\n",
       "      <td>72.830327</td>\n",
       "    </tr>\n",
       "  </tbody>\n",
       "</table>\n",
       "</div>"
      ],
      "text/plain": [
       "   ORDER_ID    DE_ID    ASSIGNMENT_START_TIME      ASSIGNMENT_END_TIME  \\\n",
       "0      2745   180976  2021-02-13 03:08:24.000  2021-02-13 03:38:26.000   \n",
       "1      9462   280243  2021-02-14 05:06:40.000  2021-02-14 05:31:04.000   \n",
       "2     14071   339813  2021-02-15 02:22:40.000  2021-02-15 02:44:02.000   \n",
       "3     14442  1315348  2021-02-15 03:01:25.000  2021-02-15 03:15:02.000   \n",
       "4     14515  1186729  2021-02-15 03:12:24.000  2021-02-15 03:50:24.000   \n",
       "5     14974   180976  2021-02-15 03:36:24.000  2021-02-15 03:54:31.000   \n",
       "6     15207   946929  2021-02-15 04:32:24.000  2021-02-15 04:47:49.000   \n",
       "7     17364  1182596  2021-02-15 18:50:40.000  2021-02-15 19:11:16.000   \n",
       "8     20180   977070  2021-02-16 03:07:54.000  2021-02-16 03:28:29.000   \n",
       "9     20240   977070  2021-02-16 03:28:40.000  2021-02-16 03:43:28.000   \n",
       "\n",
       "   reject_ind reject_type              PLACED_TIME           DELIVERED_TIME  \\\n",
       "0           0         NaN  2021-02-13 03:01:11.686  2021-02-13 03:43:26.000   \n",
       "1           0         NaN  2021-02-14 04:54:25.832  2021-02-14 05:36:04.000   \n",
       "2           0         NaN  2021-02-15 02:01:17.864  2021-02-15 02:49:02.000   \n",
       "3           0         NaN  2021-02-15 02:43:41.129  2021-02-15 03:20:02.000   \n",
       "4           0         NaN  2021-02-15 02:48:17.074  2021-02-15 03:55:24.000   \n",
       "5           0         NaN  2021-02-15 03:30:24.093  2021-02-15 03:59:31.000   \n",
       "6           0         NaN  2021-02-15 03:46:39.529  2021-02-15 04:52:49.000   \n",
       "7           0         NaN  2021-02-15 18:48:57.460  2021-02-15 19:16:16.000   \n",
       "8           0         NaN  2021-02-16 03:05:04.748  2021-02-16 03:33:29.000   \n",
       "9           0         NaN  2021-02-16 03:10:33.130  2021-02-16 03:48:28.000   \n",
       "\n",
       "   LASTMILE_DISTANCE  FIRSTMILE_DISTANCE  LAST_MILE_TIME_PREDICTED  \\\n",
       "0              320.9               320.0                     314.0   \n",
       "1              516.8               342.5                     451.0   \n",
       "2              459.5               418.7                     443.0   \n",
       "3              376.4               332.9                     367.3   \n",
       "4              414.5               334.1                     413.2   \n",
       "5              370.4               414.5                     378.2   \n",
       "6              410.3               320.0                     376.8   \n",
       "7              399.8               389.3                     382.8   \n",
       "8              365.0               347.0                     386.2   \n",
       "9              392.6               473.9                     385.5   \n",
       "\n",
       "   PAYOUT_MADE_TO_DE  NUM_PING_COUNT_LAST10MIN LAST_PING_TIME_LAST10MIN  \\\n",
       "0             1810.0                        63  2021-02-13 03:07:34.000   \n",
       "1             3210.0                        27  2021-02-14 05:06:40.000   \n",
       "2             2910.0                        57  2021-02-15 02:22:35.000   \n",
       "3             3210.0                        41  2021-02-15 03:00:28.000   \n",
       "4             3210.0                        13  2021-02-15 03:12:09.000   \n",
       "5             3710.0                        52  2021-02-15 03:36:19.000   \n",
       "6             3160.0                        69  2021-02-15 04:32:07.000   \n",
       "7             2410.0                         9  2021-02-15 18:50:09.000   \n",
       "8             2660.0                         7  2021-02-16 03:07:53.000   \n",
       "9             3460.0                         5  2021-02-16 03:28:16.000   \n",
       "\n",
       "   CUSTOMER_ZONE  CUSTOMER_LAT  CUSTOMER_LNG  \n",
       "0          373.0     37.377569     72.832560  \n",
       "1          373.0     37.380613     72.796909  \n",
       "2          373.0     37.372032     72.805871  \n",
       "3          373.0     37.371380     72.819992  \n",
       "4          373.0     37.369925     72.826764  \n",
       "5          373.0     37.368782     72.809458  \n",
       "6          373.0     37.386779     72.806458  \n",
       "7          373.0     37.370959     72.834112  \n",
       "8          373.0     37.368161     72.794676  \n",
       "9          373.0     37.365348     72.830327  "
      ]
     },
     "execution_count": 5,
     "metadata": {},
     "output_type": "execute_result"
    }
   ],
   "source": [
    "df.head(10) # assignment data"
   ]
  },
  {
   "cell_type": "code",
   "execution_count": 6,
   "metadata": {},
   "outputs": [
    {
     "data": {
      "text/html": [
       "<div>\n",
       "<style scoped>\n",
       "    .dataframe tbody tr th:only-of-type {\n",
       "        vertical-align: middle;\n",
       "    }\n",
       "\n",
       "    .dataframe tbody tr th {\n",
       "        vertical-align: top;\n",
       "    }\n",
       "\n",
       "    .dataframe thead th {\n",
       "        text-align: right;\n",
       "    }\n",
       "</style>\n",
       "<table border=\"1\" class=\"dataframe\">\n",
       "  <thead>\n",
       "    <tr style=\"text-align: right;\">\n",
       "      <th></th>\n",
       "      <th>DE_ID</th>\n",
       "      <th>SHIFT_END_TIME</th>\n",
       "      <th>DE_HOME_LAT</th>\n",
       "      <th>DE_HOME_LNG</th>\n",
       "      <th>DE_JOINING_DATE</th>\n",
       "      <th>DE_ZONE_ID</th>\n",
       "    </tr>\n",
       "  </thead>\n",
       "  <tbody>\n",
       "    <tr>\n",
       "      <th>0</th>\n",
       "      <td>141533</td>\n",
       "      <td>06:42</td>\n",
       "      <td>37.390427</td>\n",
       "      <td>72.849424</td>\n",
       "      <td>2019-09-20</td>\n",
       "      <td>372</td>\n",
       "    </tr>\n",
       "    <tr>\n",
       "      <th>1</th>\n",
       "      <td>235942</td>\n",
       "      <td>08:42</td>\n",
       "      <td>37.372289</td>\n",
       "      <td>72.885341</td>\n",
       "      <td>2020-03-15</td>\n",
       "      <td>372</td>\n",
       "    </tr>\n",
       "    <tr>\n",
       "      <th>2</th>\n",
       "      <td>973234</td>\n",
       "      <td>06:42</td>\n",
       "      <td>37.410268</td>\n",
       "      <td>72.853610</td>\n",
       "      <td>2018-12-21</td>\n",
       "      <td>375</td>\n",
       "    </tr>\n",
       "    <tr>\n",
       "      <th>3</th>\n",
       "      <td>973473</td>\n",
       "      <td>05:42</td>\n",
       "      <td>37.397067</td>\n",
       "      <td>72.872533</td>\n",
       "      <td>2018-12-21</td>\n",
       "      <td>624</td>\n",
       "    </tr>\n",
       "    <tr>\n",
       "      <th>4</th>\n",
       "      <td>1016546</td>\n",
       "      <td>06:42</td>\n",
       "      <td>37.425545</td>\n",
       "      <td>72.895137</td>\n",
       "      <td>2019-01-11</td>\n",
       "      <td>668</td>\n",
       "    </tr>\n",
       "    <tr>\n",
       "      <th>5</th>\n",
       "      <td>130629</td>\n",
       "      <td>05:42</td>\n",
       "      <td>37.373127</td>\n",
       "      <td>72.806568</td>\n",
       "      <td>2019-09-10</td>\n",
       "      <td>624</td>\n",
       "    </tr>\n",
       "    <tr>\n",
       "      <th>6</th>\n",
       "      <td>148633</td>\n",
       "      <td>01:42</td>\n",
       "      <td>37.406343</td>\n",
       "      <td>72.836286</td>\n",
       "      <td>2019-09-28</td>\n",
       "      <td>375</td>\n",
       "    </tr>\n",
       "    <tr>\n",
       "      <th>7</th>\n",
       "      <td>356712</td>\n",
       "      <td>11:42</td>\n",
       "      <td>37.372636</td>\n",
       "      <td>72.844556</td>\n",
       "      <td>2020-08-09</td>\n",
       "      <td>374</td>\n",
       "    </tr>\n",
       "    <tr>\n",
       "      <th>8</th>\n",
       "      <td>595376</td>\n",
       "      <td>05:42</td>\n",
       "      <td>37.393238</td>\n",
       "      <td>72.840244</td>\n",
       "      <td>2018-05-02</td>\n",
       "      <td>372</td>\n",
       "    </tr>\n",
       "    <tr>\n",
       "      <th>9</th>\n",
       "      <td>719813</td>\n",
       "      <td>11:42</td>\n",
       "      <td>37.408971</td>\n",
       "      <td>72.816984</td>\n",
       "      <td>2018-07-27</td>\n",
       "      <td>375</td>\n",
       "    </tr>\n",
       "  </tbody>\n",
       "</table>\n",
       "</div>"
      ],
      "text/plain": [
       "     DE_ID SHIFT_END_TIME  DE_HOME_LAT  DE_HOME_LNG DE_JOINING_DATE  \\\n",
       "0   141533          06:42    37.390427    72.849424      2019-09-20   \n",
       "1   235942          08:42    37.372289    72.885341      2020-03-15   \n",
       "2   973234          06:42    37.410268    72.853610      2018-12-21   \n",
       "3   973473          05:42    37.397067    72.872533      2018-12-21   \n",
       "4  1016546          06:42    37.425545    72.895137      2019-01-11   \n",
       "5   130629          05:42    37.373127    72.806568      2019-09-10   \n",
       "6   148633          01:42    37.406343    72.836286      2019-09-28   \n",
       "7   356712          11:42    37.372636    72.844556      2020-08-09   \n",
       "8   595376          05:42    37.393238    72.840244      2018-05-02   \n",
       "9   719813          11:42    37.408971    72.816984      2018-07-27   \n",
       "\n",
       "   DE_ZONE_ID  \n",
       "0         372  \n",
       "1         372  \n",
       "2         375  \n",
       "3         624  \n",
       "4         668  \n",
       "5         624  \n",
       "6         375  \n",
       "7         374  \n",
       "8         372  \n",
       "9         375  "
      ]
     },
     "execution_count": 6,
     "metadata": {},
     "output_type": "execute_result"
    }
   ],
   "source": [
    "df1.head(10) # data of delivery parther"
   ]
  },
  {
   "cell_type": "code",
   "execution_count": 7,
   "metadata": {},
   "outputs": [],
   "source": [
    "# creating new feature exp, saying experience of that delivery partner\n",
    "\n",
    "df1['exp']=datetime.datetime.today()-pd.to_datetime(df1['DE_JOINING_DATE']) "
   ]
  },
  {
   "cell_type": "code",
   "execution_count": 8,
   "metadata": {},
   "outputs": [],
   "source": [
    "df1['exp']=df1['exp'].apply(lambda x:x.days) # converting experience to days"
   ]
  },
  {
   "cell_type": "code",
   "execution_count": 9,
   "metadata": {},
   "outputs": [
    {
     "data": {
      "text/html": [
       "<div>\n",
       "<style scoped>\n",
       "    .dataframe tbody tr th:only-of-type {\n",
       "        vertical-align: middle;\n",
       "    }\n",
       "\n",
       "    .dataframe tbody tr th {\n",
       "        vertical-align: top;\n",
       "    }\n",
       "\n",
       "    .dataframe thead th {\n",
       "        text-align: right;\n",
       "    }\n",
       "</style>\n",
       "<table border=\"1\" class=\"dataframe\">\n",
       "  <thead>\n",
       "    <tr style=\"text-align: right;\">\n",
       "      <th></th>\n",
       "      <th>DE_ID</th>\n",
       "      <th>SHIFT_END_TIME</th>\n",
       "      <th>DE_HOME_LAT</th>\n",
       "      <th>DE_HOME_LNG</th>\n",
       "      <th>DE_JOINING_DATE</th>\n",
       "      <th>DE_ZONE_ID</th>\n",
       "      <th>exp</th>\n",
       "    </tr>\n",
       "  </thead>\n",
       "  <tbody>\n",
       "    <tr>\n",
       "      <th>0</th>\n",
       "      <td>141533</td>\n",
       "      <td>06:42</td>\n",
       "      <td>37.390427</td>\n",
       "      <td>72.849424</td>\n",
       "      <td>2019-09-20</td>\n",
       "      <td>372</td>\n",
       "      <td>829</td>\n",
       "    </tr>\n",
       "    <tr>\n",
       "      <th>1</th>\n",
       "      <td>235942</td>\n",
       "      <td>08:42</td>\n",
       "      <td>37.372289</td>\n",
       "      <td>72.885341</td>\n",
       "      <td>2020-03-15</td>\n",
       "      <td>372</td>\n",
       "      <td>652</td>\n",
       "    </tr>\n",
       "    <tr>\n",
       "      <th>2</th>\n",
       "      <td>973234</td>\n",
       "      <td>06:42</td>\n",
       "      <td>37.410268</td>\n",
       "      <td>72.853610</td>\n",
       "      <td>2018-12-21</td>\n",
       "      <td>375</td>\n",
       "      <td>1102</td>\n",
       "    </tr>\n",
       "    <tr>\n",
       "      <th>3</th>\n",
       "      <td>973473</td>\n",
       "      <td>05:42</td>\n",
       "      <td>37.397067</td>\n",
       "      <td>72.872533</td>\n",
       "      <td>2018-12-21</td>\n",
       "      <td>624</td>\n",
       "      <td>1102</td>\n",
       "    </tr>\n",
       "    <tr>\n",
       "      <th>4</th>\n",
       "      <td>1016546</td>\n",
       "      <td>06:42</td>\n",
       "      <td>37.425545</td>\n",
       "      <td>72.895137</td>\n",
       "      <td>2019-01-11</td>\n",
       "      <td>668</td>\n",
       "      <td>1081</td>\n",
       "    </tr>\n",
       "    <tr>\n",
       "      <th>5</th>\n",
       "      <td>130629</td>\n",
       "      <td>05:42</td>\n",
       "      <td>37.373127</td>\n",
       "      <td>72.806568</td>\n",
       "      <td>2019-09-10</td>\n",
       "      <td>624</td>\n",
       "      <td>839</td>\n",
       "    </tr>\n",
       "    <tr>\n",
       "      <th>6</th>\n",
       "      <td>148633</td>\n",
       "      <td>01:42</td>\n",
       "      <td>37.406343</td>\n",
       "      <td>72.836286</td>\n",
       "      <td>2019-09-28</td>\n",
       "      <td>375</td>\n",
       "      <td>821</td>\n",
       "    </tr>\n",
       "    <tr>\n",
       "      <th>7</th>\n",
       "      <td>356712</td>\n",
       "      <td>11:42</td>\n",
       "      <td>37.372636</td>\n",
       "      <td>72.844556</td>\n",
       "      <td>2020-08-09</td>\n",
       "      <td>374</td>\n",
       "      <td>505</td>\n",
       "    </tr>\n",
       "    <tr>\n",
       "      <th>8</th>\n",
       "      <td>595376</td>\n",
       "      <td>05:42</td>\n",
       "      <td>37.393238</td>\n",
       "      <td>72.840244</td>\n",
       "      <td>2018-05-02</td>\n",
       "      <td>372</td>\n",
       "      <td>1335</td>\n",
       "    </tr>\n",
       "    <tr>\n",
       "      <th>9</th>\n",
       "      <td>719813</td>\n",
       "      <td>11:42</td>\n",
       "      <td>37.408971</td>\n",
       "      <td>72.816984</td>\n",
       "      <td>2018-07-27</td>\n",
       "      <td>375</td>\n",
       "      <td>1249</td>\n",
       "    </tr>\n",
       "  </tbody>\n",
       "</table>\n",
       "</div>"
      ],
      "text/plain": [
       "     DE_ID SHIFT_END_TIME  DE_HOME_LAT  DE_HOME_LNG DE_JOINING_DATE  \\\n",
       "0   141533          06:42    37.390427    72.849424      2019-09-20   \n",
       "1   235942          08:42    37.372289    72.885341      2020-03-15   \n",
       "2   973234          06:42    37.410268    72.853610      2018-12-21   \n",
       "3   973473          05:42    37.397067    72.872533      2018-12-21   \n",
       "4  1016546          06:42    37.425545    72.895137      2019-01-11   \n",
       "5   130629          05:42    37.373127    72.806568      2019-09-10   \n",
       "6   148633          01:42    37.406343    72.836286      2019-09-28   \n",
       "7   356712          11:42    37.372636    72.844556      2020-08-09   \n",
       "8   595376          05:42    37.393238    72.840244      2018-05-02   \n",
       "9   719813          11:42    37.408971    72.816984      2018-07-27   \n",
       "\n",
       "   DE_ZONE_ID   exp  \n",
       "0         372   829  \n",
       "1         372   652  \n",
       "2         375  1102  \n",
       "3         624  1102  \n",
       "4         668  1081  \n",
       "5         624   839  \n",
       "6         375   821  \n",
       "7         374   505  \n",
       "8         372  1335  \n",
       "9         375  1249  "
      ]
     },
     "execution_count": 9,
     "metadata": {},
     "output_type": "execute_result"
    }
   ],
   "source": [
    "df1.head(10) # data of delivery parther"
   ]
  },
  {
   "cell_type": "code",
   "execution_count": 10,
   "metadata": {},
   "outputs": [],
   "source": [
    "ids={}  # zone ids of that delivery partner\n",
    "for i in range(df1.shape[0]):\n",
    "    ids[df1['DE_ID'][i]]=df1['DE_ZONE_ID'][i]\n",
    "    \n",
    "end_times={} # shift ending timings of delivery partner\n",
    "for i in range(df1.shape[0]):\n",
    "    end_times[df1['DE_ID'][i]]=df1['SHIFT_END_TIME'][i]\n",
    "    \n",
    "experiences={} # experience of that delivery partner\n",
    "for i in range(df1.shape[0]):\n",
    "    experiences[df1['DE_ID'][i]]=df1['exp'][i]"
   ]
  },
  {
   "cell_type": "code",
   "execution_count": 11,
   "metadata": {},
   "outputs": [],
   "source": [
    "df['DE_ZONE_ID']=df['DE_ID'].apply(lambda x: ids[x])"
   ]
  },
  {
   "cell_type": "code",
   "execution_count": 12,
   "metadata": {},
   "outputs": [],
   "source": [
    "df['SHIFT_END_TIME']=df['DE_ID'].apply(lambda x: end_times[x])"
   ]
  },
  {
   "cell_type": "code",
   "execution_count": 13,
   "metadata": {},
   "outputs": [],
   "source": [
    "df['exp_in_days']=df['DE_ID'].apply(lambda x: experiences[x])"
   ]
  },
  {
   "cell_type": "code",
   "execution_count": 14,
   "metadata": {},
   "outputs": [
    {
     "data": {
      "text/html": [
       "<div>\n",
       "<style scoped>\n",
       "    .dataframe tbody tr th:only-of-type {\n",
       "        vertical-align: middle;\n",
       "    }\n",
       "\n",
       "    .dataframe tbody tr th {\n",
       "        vertical-align: top;\n",
       "    }\n",
       "\n",
       "    .dataframe thead th {\n",
       "        text-align: right;\n",
       "    }\n",
       "</style>\n",
       "<table border=\"1\" class=\"dataframe\">\n",
       "  <thead>\n",
       "    <tr style=\"text-align: right;\">\n",
       "      <th></th>\n",
       "      <th>ORDER_ID</th>\n",
       "      <th>DE_ID</th>\n",
       "      <th>ASSIGNMENT_START_TIME</th>\n",
       "      <th>ASSIGNMENT_END_TIME</th>\n",
       "      <th>reject_ind</th>\n",
       "      <th>reject_type</th>\n",
       "      <th>PLACED_TIME</th>\n",
       "      <th>DELIVERED_TIME</th>\n",
       "      <th>LASTMILE_DISTANCE</th>\n",
       "      <th>FIRSTMILE_DISTANCE</th>\n",
       "      <th>LAST_MILE_TIME_PREDICTED</th>\n",
       "      <th>PAYOUT_MADE_TO_DE</th>\n",
       "      <th>NUM_PING_COUNT_LAST10MIN</th>\n",
       "      <th>LAST_PING_TIME_LAST10MIN</th>\n",
       "      <th>CUSTOMER_ZONE</th>\n",
       "      <th>CUSTOMER_LAT</th>\n",
       "      <th>CUSTOMER_LNG</th>\n",
       "      <th>DE_ZONE_ID</th>\n",
       "      <th>SHIFT_END_TIME</th>\n",
       "      <th>exp_in_days</th>\n",
       "    </tr>\n",
       "  </thead>\n",
       "  <tbody>\n",
       "    <tr>\n",
       "      <th>0</th>\n",
       "      <td>2745</td>\n",
       "      <td>180976</td>\n",
       "      <td>2021-02-13 03:08:24.000</td>\n",
       "      <td>2021-02-13 03:38:26.000</td>\n",
       "      <td>0</td>\n",
       "      <td>NaN</td>\n",
       "      <td>2021-02-13 03:01:11.686</td>\n",
       "      <td>2021-02-13 03:43:26.000</td>\n",
       "      <td>320.9</td>\n",
       "      <td>320.0</td>\n",
       "      <td>314.0</td>\n",
       "      <td>1810.0</td>\n",
       "      <td>63</td>\n",
       "      <td>2021-02-13 03:07:34.000</td>\n",
       "      <td>373.0</td>\n",
       "      <td>37.377569</td>\n",
       "      <td>72.832560</td>\n",
       "      <td>373</td>\n",
       "      <td>05:42</td>\n",
       "      <td>794</td>\n",
       "    </tr>\n",
       "    <tr>\n",
       "      <th>1</th>\n",
       "      <td>9462</td>\n",
       "      <td>280243</td>\n",
       "      <td>2021-02-14 05:06:40.000</td>\n",
       "      <td>2021-02-14 05:31:04.000</td>\n",
       "      <td>0</td>\n",
       "      <td>NaN</td>\n",
       "      <td>2021-02-14 04:54:25.832</td>\n",
       "      <td>2021-02-14 05:36:04.000</td>\n",
       "      <td>516.8</td>\n",
       "      <td>342.5</td>\n",
       "      <td>451.0</td>\n",
       "      <td>3210.0</td>\n",
       "      <td>27</td>\n",
       "      <td>2021-02-14 05:06:40.000</td>\n",
       "      <td>373.0</td>\n",
       "      <td>37.380613</td>\n",
       "      <td>72.796909</td>\n",
       "      <td>372</td>\n",
       "      <td>06:42</td>\n",
       "      <td>587</td>\n",
       "    </tr>\n",
       "    <tr>\n",
       "      <th>2</th>\n",
       "      <td>14071</td>\n",
       "      <td>339813</td>\n",
       "      <td>2021-02-15 02:22:40.000</td>\n",
       "      <td>2021-02-15 02:44:02.000</td>\n",
       "      <td>0</td>\n",
       "      <td>NaN</td>\n",
       "      <td>2021-02-15 02:01:17.864</td>\n",
       "      <td>2021-02-15 02:49:02.000</td>\n",
       "      <td>459.5</td>\n",
       "      <td>418.7</td>\n",
       "      <td>443.0</td>\n",
       "      <td>2910.0</td>\n",
       "      <td>57</td>\n",
       "      <td>2021-02-15 02:22:35.000</td>\n",
       "      <td>373.0</td>\n",
       "      <td>37.372032</td>\n",
       "      <td>72.805871</td>\n",
       "      <td>372</td>\n",
       "      <td>05:42</td>\n",
       "      <td>520</td>\n",
       "    </tr>\n",
       "    <tr>\n",
       "      <th>3</th>\n",
       "      <td>14442</td>\n",
       "      <td>1315348</td>\n",
       "      <td>2021-02-15 03:01:25.000</td>\n",
       "      <td>2021-02-15 03:15:02.000</td>\n",
       "      <td>0</td>\n",
       "      <td>NaN</td>\n",
       "      <td>2021-02-15 02:43:41.129</td>\n",
       "      <td>2021-02-15 03:20:02.000</td>\n",
       "      <td>376.4</td>\n",
       "      <td>332.9</td>\n",
       "      <td>367.3</td>\n",
       "      <td>3210.0</td>\n",
       "      <td>41</td>\n",
       "      <td>2021-02-15 03:00:28.000</td>\n",
       "      <td>373.0</td>\n",
       "      <td>37.371380</td>\n",
       "      <td>72.819992</td>\n",
       "      <td>372</td>\n",
       "      <td>06:42</td>\n",
       "      <td>939</td>\n",
       "    </tr>\n",
       "    <tr>\n",
       "      <th>4</th>\n",
       "      <td>14515</td>\n",
       "      <td>1186729</td>\n",
       "      <td>2021-02-15 03:12:24.000</td>\n",
       "      <td>2021-02-15 03:50:24.000</td>\n",
       "      <td>0</td>\n",
       "      <td>NaN</td>\n",
       "      <td>2021-02-15 02:48:17.074</td>\n",
       "      <td>2021-02-15 03:55:24.000</td>\n",
       "      <td>414.5</td>\n",
       "      <td>334.1</td>\n",
       "      <td>413.2</td>\n",
       "      <td>3210.0</td>\n",
       "      <td>13</td>\n",
       "      <td>2021-02-15 03:12:09.000</td>\n",
       "      <td>373.0</td>\n",
       "      <td>37.369925</td>\n",
       "      <td>72.826764</td>\n",
       "      <td>372</td>\n",
       "      <td>05:42</td>\n",
       "      <td>997</td>\n",
       "    </tr>\n",
       "  </tbody>\n",
       "</table>\n",
       "</div>"
      ],
      "text/plain": [
       "   ORDER_ID    DE_ID    ASSIGNMENT_START_TIME      ASSIGNMENT_END_TIME  \\\n",
       "0      2745   180976  2021-02-13 03:08:24.000  2021-02-13 03:38:26.000   \n",
       "1      9462   280243  2021-02-14 05:06:40.000  2021-02-14 05:31:04.000   \n",
       "2     14071   339813  2021-02-15 02:22:40.000  2021-02-15 02:44:02.000   \n",
       "3     14442  1315348  2021-02-15 03:01:25.000  2021-02-15 03:15:02.000   \n",
       "4     14515  1186729  2021-02-15 03:12:24.000  2021-02-15 03:50:24.000   \n",
       "\n",
       "   reject_ind reject_type              PLACED_TIME           DELIVERED_TIME  \\\n",
       "0           0         NaN  2021-02-13 03:01:11.686  2021-02-13 03:43:26.000   \n",
       "1           0         NaN  2021-02-14 04:54:25.832  2021-02-14 05:36:04.000   \n",
       "2           0         NaN  2021-02-15 02:01:17.864  2021-02-15 02:49:02.000   \n",
       "3           0         NaN  2021-02-15 02:43:41.129  2021-02-15 03:20:02.000   \n",
       "4           0         NaN  2021-02-15 02:48:17.074  2021-02-15 03:55:24.000   \n",
       "\n",
       "   LASTMILE_DISTANCE  FIRSTMILE_DISTANCE  LAST_MILE_TIME_PREDICTED  \\\n",
       "0              320.9               320.0                     314.0   \n",
       "1              516.8               342.5                     451.0   \n",
       "2              459.5               418.7                     443.0   \n",
       "3              376.4               332.9                     367.3   \n",
       "4              414.5               334.1                     413.2   \n",
       "\n",
       "   PAYOUT_MADE_TO_DE  NUM_PING_COUNT_LAST10MIN LAST_PING_TIME_LAST10MIN  \\\n",
       "0             1810.0                        63  2021-02-13 03:07:34.000   \n",
       "1             3210.0                        27  2021-02-14 05:06:40.000   \n",
       "2             2910.0                        57  2021-02-15 02:22:35.000   \n",
       "3             3210.0                        41  2021-02-15 03:00:28.000   \n",
       "4             3210.0                        13  2021-02-15 03:12:09.000   \n",
       "\n",
       "   CUSTOMER_ZONE  CUSTOMER_LAT  CUSTOMER_LNG  DE_ZONE_ID SHIFT_END_TIME  \\\n",
       "0          373.0     37.377569     72.832560         373          05:42   \n",
       "1          373.0     37.380613     72.796909         372          06:42   \n",
       "2          373.0     37.372032     72.805871         372          05:42   \n",
       "3          373.0     37.371380     72.819992         372          06:42   \n",
       "4          373.0     37.369925     72.826764         372          05:42   \n",
       "\n",
       "   exp_in_days  \n",
       "0          794  \n",
       "1          587  \n",
       "2          520  \n",
       "3          939  \n",
       "4          997  "
      ]
     },
     "execution_count": 14,
     "metadata": {},
     "output_type": "execute_result"
    }
   ],
   "source": [
    "df.head(5)"
   ]
  },
  {
   "cell_type": "markdown",
   "metadata": {},
   "source": [
    "Creating a new column, by adding firstmile and lastmile, making it total distance delivery partner needs to travel"
   ]
  },
  {
   "cell_type": "code",
   "execution_count": 15,
   "metadata": {},
   "outputs": [],
   "source": [
    "df['dist_emp']=df['FIRSTMILE_DISTANCE']+df['LASTMILE_DISTANCE']"
   ]
  },
  {
   "cell_type": "code",
   "execution_count": 16,
   "metadata": {},
   "outputs": [],
   "source": [
    "# helper function to print values on the chart\n",
    "\n",
    "def show_values_on_bars(axs):\n",
    "    def _show_on_single_plot(ax):        \n",
    "        for p in ax.patches:\n",
    "            _x = p.get_x() + p.get_width() / 2\n",
    "            _y = p.get_y() + p.get_height()\n",
    "            value = '{:.2f}'.format(p.get_height())\n",
    "            ax.text(_x, _y, value, ha=\"center\") \n",
    "\n",
    "    if isinstance(axs, np.ndarray):\n",
    "        for idx, ax in np.ndenumerate(axs):\n",
    "            _show_on_single_plot(ax)\n",
    "    else:\n",
    "        _show_on_single_plot(axs)"
   ]
  },
  {
   "cell_type": "markdown",
   "metadata": {},
   "source": [
    "# EDA"
   ]
  },
  {
   "cell_type": "markdown",
   "metadata": {},
   "source": [
    "Q1) How much experience of the delivery partner relates with rejection of the order. Does a less experienced delivery partner reject more orders??"
   ]
  },
  {
   "cell_type": "code",
   "execution_count": 17,
   "metadata": {},
   "outputs": [],
   "source": [
    "median_experience_of_rejection=df[df['reject_ind']==1]['exp_in_days'].median()\n",
    "median_experience_of_acceptance=df[df['reject_ind']==0]['exp_in_days'].median()"
   ]
  },
  {
   "cell_type": "code",
   "execution_count": 18,
   "metadata": {},
   "outputs": [
    {
     "data": {
      "image/png": "[encoded data removed]",
      "text/plain": [
       "<Figure size 432x288 with 1 Axes>"
      ]
     },
     "metadata": {
      "needs_background": "light"
     },
     "output_type": "display_data"
    }
   ],
   "source": [
    "fig, ax = plt.subplots(1, 1)\n",
    "sns.barplot(['acceptance','rejection'],[median_experience_of_acceptance,median_experience_of_rejection])\n",
    "show_values_on_bars(ax)"
   ]
  },
  {
   "cell_type": "markdown",
   "metadata": {},
   "source": [
    "The median experience of a delivery guy in rejection case is 617, where as in acceptance case is 787"
   ]
  },
  {
   "cell_type": "markdown",
   "metadata": {},
   "source": [
    "We can clearly see that delivery partners with less experience are more likely to reject orders than more experienced ones"
   ]
  },
  {
   "cell_type": "markdown",
   "metadata": {},
   "source": [
    "Q2) How shift time relate with rejection of orders??"
   ]
  },
  {
   "cell_type": "code",
   "execution_count": 19,
   "metadata": {},
   "outputs": [
    {
     "data": {
      "image/png": "[encoded data removed]",
      "text/plain": [
       "<Figure size 432x288 with 1 Axes>"
      ]
     },
     "metadata": {
      "needs_background": "light"
     },
     "output_type": "display_data"
    }
   ],
   "source": [
    "fig, ax = plt.subplots(1, 1) \n",
    "sns.countplot(x='SHIFT_END_TIME',data=df1) # This plot shows the shift timing of all the de's\n",
    "show_values_on_bars(ax)"
   ]
  },
  {
   "cell_type": "markdown",
   "metadata": {},
   "source": [
    "Most delivery partners (361) work in shift end time of 5:42. The least number of delivery partners (12) work till 00:42"
   ]
  },
  {
   "cell_type": "code",
   "execution_count": 20,
   "metadata": {},
   "outputs": [
    {
     "data": {
      "image/png": "[encoded data removed]",
      "text/plain": [
       "<Figure size 2160x360 with 1 Axes>"
      ]
     },
     "metadata": {
      "needs_background": "light"
     },
     "output_type": "display_data"
    }
   ],
   "source": [
    "fig = plt.figure(figsize=(30, 5))\n",
    "ax=fig.add_subplot(121)\n",
    "sns.countplot(x='SHIFT_END_TIME',data=df,hue='reject_ind') # This plot shows the shifts of de's varies with orders\n",
    "show_values_on_bars(ax)"
   ]
  },
  {
   "cell_type": "markdown",
   "metadata": {},
   "source": [
    "In shift time of 5:42 there are 60,178 accepted orders and only 3253 rejections. But in shift 6:42 rejected orders are almost near (2560) to the former even though accepted orders are less.\n"
   ]
  },
  {
   "cell_type": "markdown",
   "metadata": {},
   "source": [
    "So we can conclude that there is a high probability of rejection for delivery partners working in shift 6:42."
   ]
  },
  {
   "cell_type": "markdown",
   "metadata": {},
   "source": [
    "Q3) Is there any relation between the zone of the order and the rejection. Are the orders of a certain region rejected more??"
   ]
  },
  {
   "cell_type": "code",
   "execution_count": 21,
   "metadata": {},
   "outputs": [
    {
     "name": "stderr",
     "output_type": "stream",
     "text": [
      "posx and posy should be finite values\n",
      "posx and posy should be finite values\n"
     ]
    },
    {
     "data": {
      "image/png": "[encoded data removed]",
      "text/plain": [
       "<Figure size 2160x360 with 1 Axes>"
      ]
     },
     "metadata": {
      "needs_background": "light"
     },
     "output_type": "display_data"
    }
   ],
   "source": [
    "# This plot shows the number of accepted/rejected orders in that particular shift\n",
    "\n",
    "fig = plt.figure(figsize=(30, 5))\n",
    "ax=fig.add_subplot(121)\n",
    "sns.countplot(x='CUSTOMER_ZONE',data=df,hue='reject_ind') \n",
    "show_values_on_bars(ax)"
   ]
  },
  {
   "cell_type": "code",
   "execution_count": 22,
   "metadata": {},
   "outputs": [
    {
     "name": "stdout",
     "output_type": "stream",
     "text": [
      "Customer zone no:  375.0\n",
      "Percentage of rejected orders:  0.05719057339023938\n",
      "\n",
      "Customer zone no:  372.0\n",
      "Percentage of rejected orders:  0.04925990003844675\n",
      "\n",
      "Customer zone no:  624.0\n",
      "Percentage of rejected orders:  0.06515082785212066\n",
      "\n",
      "Customer zone no:  373.0\n",
      "Percentage of rejected orders:  0.05198002872580535\n",
      "\n",
      "Customer zone no:  841.0\n",
      "Percentage of rejected orders:  0.060821049731367954\n",
      "\n",
      "Customer zone no:  374.0\n",
      "Percentage of rejected orders:  0.049273021001615507\n",
      "\n",
      "Customer zone no:  668.0\n",
      "Percentage of rejected orders:  0.07469358327325162\n",
      "\n",
      "Customer zone no:  382.0\n",
      "Percentage of rejected orders:  0.0\n",
      "\n"
     ]
    }
   ],
   "source": [
    "for i in df['CUSTOMER_ZONE'].value_counts().index:\n",
    "    if(i==np.nan):\n",
    "        continue\n",
    "    data=df[df['CUSTOMER_ZONE']==i]\n",
    "    zero=len(data[data['reject_ind']==0])\n",
    "    one=len(data[data['reject_ind']==1])\n",
    "    print('Customer zone no: ',i)\n",
    "    print('Percentage of rejected orders: ',one/(one+zero))\n",
    "    print()"
   ]
  },
  {
   "cell_type": "markdown",
   "metadata": {},
   "source": [
    "We can see percentage of rejected orders is same in all zones. So we can conclude that there is no relation between rejection of orders and the zone in which orders were placed, and the rejections are equally likely in all zones"
   ]
  },
  {
   "cell_type": "markdown",
   "metadata": {},
   "source": [
    "Q4) Does rejecting the order depends on the distance delivery partner needs to travel. Does traveling far distance makes the delivery partner reject the order?"
   ]
  },
  {
   "cell_type": "code",
   "execution_count": 23,
   "metadata": {},
   "outputs": [],
   "source": [
    "mean_distance_for_rejection=df[df['reject_ind']==1]['dist_emp'].mean()\n",
    "mean_distance_for_acceptance=df[df['reject_ind']==0]['dist_emp'].mean()"
   ]
  },
  {
   "cell_type": "code",
   "execution_count": 24,
   "metadata": {},
   "outputs": [
    {
     "data": {
      "image/png": "[encoded data removed]",
      "text/plain": [
       "<Figure size 432x288 with 1 Axes>"
      ]
     },
     "metadata": {
      "needs_background": "light"
     },
     "output_type": "display_data"
    }
   ],
   "source": [
    "fig, ax = plt.subplots(1, 1)\n",
    "sns.barplot(['acceptance','rejection'],[mean_distance_for_acceptance,mean_distance_for_rejection])\n",
    "show_values_on_bars(ax)"
   ]
  },
  {
   "cell_type": "markdown",
   "metadata": {},
   "source": [
    "As the distances of both accepted case and rejected case does'nt vary by a huge margin, We can't conclude that delivery partner rejects\n",
    "the order based on the distance he needs to travel"
   ]
  },
  {
   "cell_type": "markdown",
   "metadata": {},
   "source": [
    "Q5) How much rejection of order depends on the day of the week. Are delivery partners rejecting more orders on weekends??"
   ]
  },
  {
   "cell_type": "code",
   "execution_count": 25,
   "metadata": {},
   "outputs": [],
   "source": [
    "df['day_of_week']=pd.to_datetime(df['ASSIGNMENT_START_TIME']).dt.dayofweek"
   ]
  },
  {
   "cell_type": "code",
   "execution_count": 26,
   "metadata": {},
   "outputs": [
    {
     "data": {
      "image/png": "[encoded data removed]",
      "text/plain": [
       "<Figure size 2160x360 with 1 Axes>"
      ]
     },
     "metadata": {
      "needs_background": "light"
     },
     "output_type": "display_data"
    }
   ],
   "source": [
    "fig = plt.figure(figsize=(30, 5))\n",
    "ax=fig.add_subplot(121)\n",
    "sns.countplot(x='day_of_week',data=df,hue='reject_ind')\n",
    "show_values_on_bars(ax)\n",
    "\n",
    "# 0-Monday, 1-Tuesday, 2-Wednesday ...  6-Sunday"
   ]
  },
  {
   "cell_type": "markdown",
   "metadata": {},
   "source": [
    "From the above graph, we can see that orders rejected are almost evenly distributed on all days of the week. So we can't say that a delivery partner reject more orders on weekends than weekdays, which is very good."
   ]
  },
  {
   "cell_type": "markdown",
   "metadata": {},
   "source": [
    "Q6) Which rejection type is more frequent??"
   ]
  },
  {
   "cell_type": "code",
   "execution_count": 27,
   "metadata": {},
   "outputs": [
    {
     "data": {
      "image/png": "[encoded data removed]",
      "text/plain": [
       "<Figure size 2160x360 with 1 Axes>"
      ]
     },
     "metadata": {
      "needs_background": "light"
     },
     "output_type": "display_data"
    }
   ],
   "source": [
    "fig = plt.figure(figsize=(30, 5))\n",
    "ax=fig.add_subplot(121)\n",
    "sns.countplot(x='reject_type',data=df)\n",
    "show_values_on_bars(ax)"
   ]
  },
  {
   "cell_type": "markdown",
   "metadata": {},
   "source": [
    "We can clearly see that Type-1 Rejection is very much high in number, compared to others. So we can aim to reduce those Type-1 rejections."
   ]
  },
  {
   "cell_type": "markdown",
   "metadata": {},
   "source": [
    "Q7) Is there are relation between Type of Rejection and the zone of the Customer??"
   ]
  },
  {
   "cell_type": "code",
   "execution_count": 28,
   "metadata": {},
   "outputs": [
    {
     "data": {
      "image/png": "[encoded data removed]",
      "text/plain": [
       "<Figure size 2160x360 with 1 Axes>"
      ]
     },
     "metadata": {
      "needs_background": "light"
     },
     "output_type": "display_data"
    }
   ],
   "source": [
    "fig = plt.figure(figsize=(30, 5))\n",
    "ax=fig.add_subplot(121)\n",
    "sns.countplot(x='CUSTOMER_ZONE',data=df.dropna(subset=['CUSTOMER_ZONE','reject_type']),hue='reject_type')\n",
    "show_values_on_bars(ax)"
   ]
  },
  {
   "cell_type": "markdown",
   "metadata": {},
   "source": [
    "In every zone, Type-1 Rejection is more common and Type-4 rejections are very rare. We can also observe the order of rejections in every zone i.e \n",
    "Type 1 > Type 2 > Type 3 > Type 4"
   ]
  },
  {
   "cell_type": "markdown",
   "metadata": {},
   "source": [
    "# Data Preprocessing and Data Cleaning"
   ]
  },
  {
   "cell_type": "markdown",
   "metadata": {},
   "source": [
    "First lets inspect what features we have till now and preprocess the data"
   ]
  },
  {
   "cell_type": "code",
   "execution_count": 29,
   "metadata": {},
   "outputs": [
    {
     "data": {
      "text/plain": [
       "Index(['ORDER_ID', 'DE_ID', 'ASSIGNMENT_START_TIME', 'ASSIGNMENT_END_TIME',\n",
       "       'reject_ind', 'reject_type', 'PLACED_TIME', 'DELIVERED_TIME',\n",
       "       'LASTMILE_DISTANCE', 'FIRSTMILE_DISTANCE', 'LAST_MILE_TIME_PREDICTED',\n",
       "       'PAYOUT_MADE_TO_DE', 'NUM_PING_COUNT_LAST10MIN',\n",
       "       'LAST_PING_TIME_LAST10MIN', 'CUSTOMER_ZONE', 'CUSTOMER_LAT',\n",
       "       'CUSTOMER_LNG', 'DE_ZONE_ID', 'SHIFT_END_TIME', 'exp_in_days',\n",
       "       'dist_emp', 'day_of_week'],\n",
       "      dtype='object')"
      ]
     },
     "execution_count": 29,
     "metadata": {},
     "output_type": "execute_result"
    }
   ],
   "source": [
    "df.columns"
   ]
  },
  {
   "cell_type": "code",
   "execution_count": 30,
   "metadata": {},
   "outputs": [
    {
     "data": {
      "text/html": [
       "<div>\n",
       "<style scoped>\n",
       "    .dataframe tbody tr th:only-of-type {\n",
       "        vertical-align: middle;\n",
       "    }\n",
       "\n",
       "    .dataframe tbody tr th {\n",
       "        vertical-align: top;\n",
       "    }\n",
       "\n",
       "    .dataframe thead th {\n",
       "        text-align: right;\n",
       "    }\n",
       "</style>\n",
       "<table border=\"1\" class=\"dataframe\">\n",
       "  <thead>\n",
       "    <tr style=\"text-align: right;\">\n",
       "      <th></th>\n",
       "      <th>ORDER_ID</th>\n",
       "      <th>DE_ID</th>\n",
       "      <th>ASSIGNMENT_START_TIME</th>\n",
       "      <th>ASSIGNMENT_END_TIME</th>\n",
       "      <th>reject_ind</th>\n",
       "      <th>reject_type</th>\n",
       "      <th>PLACED_TIME</th>\n",
       "      <th>DELIVERED_TIME</th>\n",
       "      <th>LASTMILE_DISTANCE</th>\n",
       "      <th>FIRSTMILE_DISTANCE</th>\n",
       "      <th>...</th>\n",
       "      <th>NUM_PING_COUNT_LAST10MIN</th>\n",
       "      <th>LAST_PING_TIME_LAST10MIN</th>\n",
       "      <th>CUSTOMER_ZONE</th>\n",
       "      <th>CUSTOMER_LAT</th>\n",
       "      <th>CUSTOMER_LNG</th>\n",
       "      <th>DE_ZONE_ID</th>\n",
       "      <th>SHIFT_END_TIME</th>\n",
       "      <th>exp_in_days</th>\n",
       "      <th>dist_emp</th>\n",
       "      <th>day_of_week</th>\n",
       "    </tr>\n",
       "  </thead>\n",
       "  <tbody>\n",
       "    <tr>\n",
       "      <th>132384</th>\n",
       "      <td>105662</td>\n",
       "      <td>273619</td>\n",
       "      <td>2021-03-02 22:09:20.000</td>\n",
       "      <td>2021-03-02 22:26:30.000</td>\n",
       "      <td>0</td>\n",
       "      <td>NaN</td>\n",
       "      <td>2021-03-02 22:07:59.869</td>\n",
       "      <td>2021-03-02 22:31:30.000</td>\n",
       "      <td>363.2</td>\n",
       "      <td>368.3</td>\n",
       "      <td>...</td>\n",
       "      <td>22</td>\n",
       "      <td>2021-03-02 22:09:02.000</td>\n",
       "      <td>374.0</td>\n",
       "      <td>37.359144</td>\n",
       "      <td>72.852351</td>\n",
       "      <td>374</td>\n",
       "      <td>05:42</td>\n",
       "      <td>594</td>\n",
       "      <td>731.5</td>\n",
       "      <td>1</td>\n",
       "    </tr>\n",
       "    <tr>\n",
       "      <th>132385</th>\n",
       "      <td>107834</td>\n",
       "      <td>287059</td>\n",
       "      <td>2021-03-03 03:36:21.000</td>\n",
       "      <td>2021-03-03 04:03:31.000</td>\n",
       "      <td>0</td>\n",
       "      <td>NaN</td>\n",
       "      <td>2021-03-03 03:27:12.582</td>\n",
       "      <td>2021-03-03 04:08:31.000</td>\n",
       "      <td>460.4</td>\n",
       "      <td>355.7</td>\n",
       "      <td>...</td>\n",
       "      <td>37</td>\n",
       "      <td>2021-03-03 03:36:20.000</td>\n",
       "      <td>374.0</td>\n",
       "      <td>37.366997</td>\n",
       "      <td>72.841034</td>\n",
       "      <td>374</td>\n",
       "      <td>06:42</td>\n",
       "      <td>580</td>\n",
       "      <td>816.1</td>\n",
       "      <td>2</td>\n",
       "    </tr>\n",
       "    <tr>\n",
       "      <th>132386</th>\n",
       "      <td>107834</td>\n",
       "      <td>395956</td>\n",
       "      <td>2021-03-03 03:33:21.000</td>\n",
       "      <td>2021-03-03 03:36:20.000</td>\n",
       "      <td>1</td>\n",
       "      <td>Type-4</td>\n",
       "      <td>2021-03-03 03:27:12.582</td>\n",
       "      <td>2021-03-03 04:08:31.000</td>\n",
       "      <td>460.4</td>\n",
       "      <td>383.6</td>\n",
       "      <td>...</td>\n",
       "      <td>45</td>\n",
       "      <td>2021-03-03 03:32:40.000</td>\n",
       "      <td>374.0</td>\n",
       "      <td>37.366997</td>\n",
       "      <td>72.841034</td>\n",
       "      <td>372</td>\n",
       "      <td>06:42</td>\n",
       "      <td>467</td>\n",
       "      <td>844.0</td>\n",
       "      <td>2</td>\n",
       "    </tr>\n",
       "    <tr>\n",
       "      <th>132387</th>\n",
       "      <td>108759</td>\n",
       "      <td>977179</td>\n",
       "      <td>2021-03-03 04:31:07.000</td>\n",
       "      <td>2021-03-03 05:00:34.000</td>\n",
       "      <td>0</td>\n",
       "      <td>NaN</td>\n",
       "      <td>2021-03-03 04:24:44.475</td>\n",
       "      <td>2021-03-03 05:05:34.000</td>\n",
       "      <td>497.3</td>\n",
       "      <td>324.8</td>\n",
       "      <td>...</td>\n",
       "      <td>34</td>\n",
       "      <td>2021-03-03 04:30:51.000</td>\n",
       "      <td>374.0</td>\n",
       "      <td>37.371239</td>\n",
       "      <td>72.858420</td>\n",
       "      <td>374</td>\n",
       "      <td>08:42</td>\n",
       "      <td>1100</td>\n",
       "      <td>822.1</td>\n",
       "      <td>2</td>\n",
       "    </tr>\n",
       "    <tr>\n",
       "      <th>132388</th>\n",
       "      <td>111843</td>\n",
       "      <td>1201050</td>\n",
       "      <td>2021-03-03 22:55:20.000</td>\n",
       "      <td>2021-03-03 23:44:49.000</td>\n",
       "      <td>0</td>\n",
       "      <td>NaN</td>\n",
       "      <td>2021-03-03 22:54:31.368</td>\n",
       "      <td>2021-03-03 23:49:49.000</td>\n",
       "      <td>473.0</td>\n",
       "      <td>353.0</td>\n",
       "      <td>...</td>\n",
       "      <td>11</td>\n",
       "      <td>2021-03-03 22:54:38.000</td>\n",
       "      <td>374.0</td>\n",
       "      <td>37.365303</td>\n",
       "      <td>72.858267</td>\n",
       "      <td>372</td>\n",
       "      <td>05:42</td>\n",
       "      <td>990</td>\n",
       "      <td>826.0</td>\n",
       "      <td>2</td>\n",
       "    </tr>\n",
       "    <tr>\n",
       "      <th>132389</th>\n",
       "      <td>116618</td>\n",
       "      <td>1273445</td>\n",
       "      <td>2021-03-04 07:07:20.000</td>\n",
       "      <td>2021-03-04 07:37:54.000</td>\n",
       "      <td>0</td>\n",
       "      <td>NaN</td>\n",
       "      <td>2021-03-04 06:55:15.466</td>\n",
       "      <td>2021-03-04 07:42:54.000</td>\n",
       "      <td>404.6</td>\n",
       "      <td>434.6</td>\n",
       "      <td>...</td>\n",
       "      <td>28</td>\n",
       "      <td>2021-03-04 07:06:25.000</td>\n",
       "      <td>374.0</td>\n",
       "      <td>37.365616</td>\n",
       "      <td>72.835463</td>\n",
       "      <td>372</td>\n",
       "      <td>11:42</td>\n",
       "      <td>958</td>\n",
       "      <td>839.2</td>\n",
       "      <td>3</td>\n",
       "    </tr>\n",
       "    <tr>\n",
       "      <th>132390</th>\n",
       "      <td>116618</td>\n",
       "      <td>234637</td>\n",
       "      <td>2021-03-04 07:05:20.000</td>\n",
       "      <td>2021-03-04 07:07:19.000</td>\n",
       "      <td>1</td>\n",
       "      <td>Type-1</td>\n",
       "      <td>2021-03-04 06:55:15.466</td>\n",
       "      <td>2021-03-04 07:42:54.000</td>\n",
       "      <td>404.6</td>\n",
       "      <td>444.8</td>\n",
       "      <td>...</td>\n",
       "      <td>63</td>\n",
       "      <td>2021-03-04 07:04:40.000</td>\n",
       "      <td>374.0</td>\n",
       "      <td>37.365616</td>\n",
       "      <td>72.835463</td>\n",
       "      <td>375</td>\n",
       "      <td>05:42</td>\n",
       "      <td>679</td>\n",
       "      <td>849.4</td>\n",
       "      <td>3</td>\n",
       "    </tr>\n",
       "    <tr>\n",
       "      <th>132391</th>\n",
       "      <td>118004</td>\n",
       "      <td>1018931</td>\n",
       "      <td>2021-03-04 20:47:34.000</td>\n",
       "      <td>2021-03-04 21:07:35.000</td>\n",
       "      <td>0</td>\n",
       "      <td>NaN</td>\n",
       "      <td>2021-03-04 20:41:54.521</td>\n",
       "      <td>2021-03-04 21:12:35.000</td>\n",
       "      <td>475.7</td>\n",
       "      <td>334.7</td>\n",
       "      <td>...</td>\n",
       "      <td>8</td>\n",
       "      <td>2021-03-04 20:45:39.000</td>\n",
       "      <td>374.0</td>\n",
       "      <td>37.362292</td>\n",
       "      <td>72.861723</td>\n",
       "      <td>372</td>\n",
       "      <td>05:42</td>\n",
       "      <td>1081</td>\n",
       "      <td>810.4</td>\n",
       "      <td>3</td>\n",
       "    </tr>\n",
       "    <tr>\n",
       "      <th>132392</th>\n",
       "      <td>119366</td>\n",
       "      <td>1180245</td>\n",
       "      <td>2021-03-04 23:37:20.000</td>\n",
       "      <td>2021-03-05 00:01:34.000</td>\n",
       "      <td>0</td>\n",
       "      <td>NaN</td>\n",
       "      <td>2021-03-04 23:35:22.194</td>\n",
       "      <td>2021-03-05 00:06:34.000</td>\n",
       "      <td>326.6</td>\n",
       "      <td>392.9</td>\n",
       "      <td>...</td>\n",
       "      <td>28</td>\n",
       "      <td>2021-03-04 23:37:14.000</td>\n",
       "      <td>374.0</td>\n",
       "      <td>37.365457</td>\n",
       "      <td>72.862098</td>\n",
       "      <td>372</td>\n",
       "      <td>01:42</td>\n",
       "      <td>1001</td>\n",
       "      <td>719.5</td>\n",
       "      <td>3</td>\n",
       "    </tr>\n",
       "    <tr>\n",
       "      <th>132393</th>\n",
       "      <td>121027</td>\n",
       "      <td>370946</td>\n",
       "      <td>2021-03-05 02:29:21.000</td>\n",
       "      <td>2021-03-05 02:52:50.000</td>\n",
       "      <td>0</td>\n",
       "      <td>NaN</td>\n",
       "      <td>2021-03-05 02:28:08.182</td>\n",
       "      <td>2021-03-05 02:57:50.000</td>\n",
       "      <td>429.5</td>\n",
       "      <td>337.1</td>\n",
       "      <td>...</td>\n",
       "      <td>27</td>\n",
       "      <td>2021-03-05 02:28:17.000</td>\n",
       "      <td>374.0</td>\n",
       "      <td>37.371853</td>\n",
       "      <td>72.855686</td>\n",
       "      <td>374</td>\n",
       "      <td>05:42</td>\n",
       "      <td>493</td>\n",
       "      <td>766.6</td>\n",
       "      <td>4</td>\n",
       "    </tr>\n",
       "  </tbody>\n",
       "</table>\n",
       "<p>10 rows × 22 columns</p>\n",
       "</div>"
      ],
      "text/plain": [
       "        ORDER_ID    DE_ID    ASSIGNMENT_START_TIME      ASSIGNMENT_END_TIME  \\\n",
       "132384    105662   273619  2021-03-02 22:09:20.000  2021-03-02 22:26:30.000   \n",
       "132385    107834   287059  2021-03-03 03:36:21.000  2021-03-03 04:03:31.000   \n",
       "132386    107834   395956  2021-03-03 03:33:21.000  2021-03-03 03:36:20.000   \n",
       "132387    108759   977179  2021-03-03 04:31:07.000  2021-03-03 05:00:34.000   \n",
       "132388    111843  1201050  2021-03-03 22:55:20.000  2021-03-03 23:44:49.000   \n",
       "132389    116618  1273445  2021-03-04 07:07:20.000  2021-03-04 07:37:54.000   \n",
       "132390    116618   234637  2021-03-04 07:05:20.000  2021-03-04 07:07:19.000   \n",
       "132391    118004  1018931  2021-03-04 20:47:34.000  2021-03-04 21:07:35.000   \n",
       "132392    119366  1180245  2021-03-04 23:37:20.000  2021-03-05 00:01:34.000   \n",
       "132393    121027   370946  2021-03-05 02:29:21.000  2021-03-05 02:52:50.000   \n",
       "\n",
       "        reject_ind reject_type              PLACED_TIME  \\\n",
       "132384           0         NaN  2021-03-02 22:07:59.869   \n",
       "132385           0         NaN  2021-03-03 03:27:12.582   \n",
       "132386           1      Type-4  2021-03-03 03:27:12.582   \n",
       "132387           0         NaN  2021-03-03 04:24:44.475   \n",
       "132388           0         NaN  2021-03-03 22:54:31.368   \n",
       "132389           0         NaN  2021-03-04 06:55:15.466   \n",
       "132390           1      Type-1  2021-03-04 06:55:15.466   \n",
       "132391           0         NaN  2021-03-04 20:41:54.521   \n",
       "132392           0         NaN  2021-03-04 23:35:22.194   \n",
       "132393           0         NaN  2021-03-05 02:28:08.182   \n",
       "\n",
       "                 DELIVERED_TIME  LASTMILE_DISTANCE  FIRSTMILE_DISTANCE  ...  \\\n",
       "132384  2021-03-02 22:31:30.000              363.2               368.3  ...   \n",
       "132385  2021-03-03 04:08:31.000              460.4               355.7  ...   \n",
       "132386  2021-03-03 04:08:31.000              460.4               383.6  ...   \n",
       "132387  2021-03-03 05:05:34.000              497.3               324.8  ...   \n",
       "132388  2021-03-03 23:49:49.000              473.0               353.0  ...   \n",
       "132389  2021-03-04 07:42:54.000              404.6               434.6  ...   \n",
       "132390  2021-03-04 07:42:54.000              404.6               444.8  ...   \n",
       "132391  2021-03-04 21:12:35.000              475.7               334.7  ...   \n",
       "132392  2021-03-05 00:06:34.000              326.6               392.9  ...   \n",
       "132393  2021-03-05 02:57:50.000              429.5               337.1  ...   \n",
       "\n",
       "        NUM_PING_COUNT_LAST10MIN  LAST_PING_TIME_LAST10MIN  CUSTOMER_ZONE  \\\n",
       "132384                        22   2021-03-02 22:09:02.000          374.0   \n",
       "132385                        37   2021-03-03 03:36:20.000          374.0   \n",
       "132386                        45   2021-03-03 03:32:40.000          374.0   \n",
       "132387                        34   2021-03-03 04:30:51.000          374.0   \n",
       "132388                        11   2021-03-03 22:54:38.000          374.0   \n",
       "132389                        28   2021-03-04 07:06:25.000          374.0   \n",
       "132390                        63   2021-03-04 07:04:40.000          374.0   \n",
       "132391                         8   2021-03-04 20:45:39.000          374.0   \n",
       "132392                        28   2021-03-04 23:37:14.000          374.0   \n",
       "132393                        27   2021-03-05 02:28:17.000          374.0   \n",
       "\n",
       "       CUSTOMER_LAT  CUSTOMER_LNG  DE_ZONE_ID  SHIFT_END_TIME  exp_in_days  \\\n",
       "132384    37.359144     72.852351         374           05:42          594   \n",
       "132385    37.366997     72.841034         374           06:42          580   \n",
       "132386    37.366997     72.841034         372           06:42          467   \n",
       "132387    37.371239     72.858420         374           08:42         1100   \n",
       "132388    37.365303     72.858267         372           05:42          990   \n",
       "132389    37.365616     72.835463         372           11:42          958   \n",
       "132390    37.365616     72.835463         375           05:42          679   \n",
       "132391    37.362292     72.861723         372           05:42         1081   \n",
       "132392    37.365457     72.862098         372           01:42         1001   \n",
       "132393    37.371853     72.855686         374           05:42          493   \n",
       "\n",
       "       dist_emp  day_of_week  \n",
       "132384    731.5            1  \n",
       "132385    816.1            2  \n",
       "132386    844.0            2  \n",
       "132387    822.1            2  \n",
       "132388    826.0            2  \n",
       "132389    839.2            3  \n",
       "132390    849.4            3  \n",
       "132391    810.4            3  \n",
       "132392    719.5            3  \n",
       "132393    766.6            4  \n",
       "\n",
       "[10 rows x 22 columns]"
      ]
     },
     "execution_count": 30,
     "metadata": {},
     "output_type": "execute_result"
    }
   ],
   "source": [
    "df.tail(10)"
   ]
  },
  {
   "cell_type": "markdown",
   "metadata": {},
   "source": [
    "ORDER_ID AND DE_ID are the unique identifiers of the rows, so they have to be removed"
   ]
  },
  {
   "cell_type": "code",
   "execution_count": 31,
   "metadata": {},
   "outputs": [],
   "source": [
    "df=df.drop(['ORDER_ID','DE_ID'],axis=1)"
   ]
  },
  {
   "cell_type": "markdown",
   "metadata": {},
   "source": [
    "Convert LAST_PING_TIME_LAST10MIN into PING_TIME_DIFFERENCE which is the difference between ASSIGNMENT_START_TIME and LAST_PING_TIME_LAST10MIN"
   ]
  },
  {
   "cell_type": "code",
   "execution_count": 32,
   "metadata": {},
   "outputs": [],
   "source": [
    "df['LAST_PING_TIME_LAST10MIN'] =pd.to_datetime(df['LAST_PING_TIME_LAST10MIN'])\n",
    "df['ASSIGNMENT_START_TIME'] =pd.to_datetime(df['ASSIGNMENT_START_TIME'])\n",
    "df['ping_time_difference_in_sec']=df['ASSIGNMENT_START_TIME']-df['LAST_PING_TIME_LAST10MIN']\n",
    "df['ping_time_difference_in_sec']=df['ping_time_difference_in_sec'].apply(lambda x: x.seconds)\n",
    "df=df.drop(['LAST_PING_TIME_LAST10MIN'],axis=1)"
   ]
  },
  {
   "cell_type": "markdown",
   "metadata": {},
   "source": [
    "Convert ASSIGNMENT_START_TIME into two columns \"day_of_week\" and \"hour_of_the_day\" and dropping  ASSIGNMENT_START_TIME"
   ]
  },
  {
   "cell_type": "code",
   "execution_count": 33,
   "metadata": {},
   "outputs": [],
   "source": [
    "df['day_of_week']=pd.to_datetime(df['ASSIGNMENT_START_TIME']).dt.dayofweek\n",
    "df['hour_of_the_day']=pd.to_datetime(df['ASSIGNMENT_START_TIME']).dt.hour\n",
    "df=df.drop(['ASSIGNMENT_START_TIME'],axis=1)"
   ]
  },
  {
   "cell_type": "markdown",
   "metadata": {},
   "source": [
    "DROP feature PLACED_TIME because the hour of placed time and hour of assignment are almost the same."
   ]
  },
  {
   "cell_type": "code",
   "execution_count": 34,
   "metadata": {},
   "outputs": [],
   "source": [
    "df=df.drop(['PLACED_TIME'],axis=1)"
   ]
  },
  {
   "cell_type": "markdown",
   "metadata": {},
   "source": [
    " DROP ASSIGNMENT_END_TIME, DELIVERED_TIME as well because they don't add any meaning for delivery partner to accept an order or not"
   ]
  },
  {
   "cell_type": "code",
   "execution_count": 35,
   "metadata": {},
   "outputs": [],
   "source": [
    "df=df.drop(['ASSIGNMENT_END_TIME','DELIVERED_TIME'],axis=1)"
   ]
  },
  {
   "cell_type": "markdown",
   "metadata": {},
   "source": [
    "DROP PAYOUT_MADE_TO_DE feature that is the feature that comes after successfully delivering the order. Moreover if PAYOUT_MADE_TO_DE==0 then reject_ind will always be 1."
   ]
  },
  {
   "cell_type": "code",
   "execution_count": 36,
   "metadata": {},
   "outputs": [],
   "source": [
    "df=df.drop(['PAYOUT_MADE_TO_DE'],axis=1)"
   ]
  },
  {
   "cell_type": "markdown",
   "metadata": {},
   "source": [
    "Create a new feature of whether CUSTOMER_ZONE and DE_ZONE are same or not"
   ]
  },
  {
   "cell_type": "code",
   "execution_count": 37,
   "metadata": {},
   "outputs": [],
   "source": [
    "df['zone_same_or_not']=(df['CUSTOMER_ZONE']==df['DE_ZONE_ID']).apply(lambda x: 1 if x else 0)\n",
    "df=df.drop(['CUSTOMER_ZONE','DE_ZONE_ID'],axis=1)"
   ]
  },
  {
   "cell_type": "markdown",
   "metadata": {},
   "source": [
    "DROP feature LASTMILE_DISTANCE and FIRSTMILE_DISTANCE as we already created new feature dist_emp which is sum of both the features"
   ]
  },
  {
   "cell_type": "code",
   "execution_count": 38,
   "metadata": {},
   "outputs": [],
   "source": [
    "df=df.drop(['LASTMILE_DISTANCE','FIRSTMILE_DISTANCE'],axis=1)"
   ]
  },
  {
   "cell_type": "markdown",
   "metadata": {},
   "source": [
    "DROP feature CUSTOMER_LAT, CUSTOMER_LNG as there is a feature dist_emp that has information about distance"
   ]
  },
  {
   "cell_type": "code",
   "execution_count": 39,
   "metadata": {},
   "outputs": [],
   "source": [
    "df=df.drop(['CUSTOMER_LAT','CUSTOMER_LNG'],axis=1)"
   ]
  },
  {
   "cell_type": "markdown",
   "metadata": {},
   "source": [
    "Lastly, we one-hot encode the SHIFT_END_TIME feature"
   ]
  },
  {
   "cell_type": "code",
   "execution_count": 40,
   "metadata": {},
   "outputs": [],
   "source": [
    "df=pd.concat([df,pd.get_dummies(df['SHIFT_END_TIME'],drop_first=True)],axis=1)\n",
    "df=df.drop(['SHIFT_END_TIME'],axis=1)"
   ]
  },
  {
   "cell_type": "markdown",
   "metadata": {},
   "source": [
    "Dropping reject_type column"
   ]
  },
  {
   "cell_type": "code",
   "execution_count": 41,
   "metadata": {},
   "outputs": [],
   "source": [
    "df=df.drop(['reject_type'],axis=1)"
   ]
  },
  {
   "cell_type": "markdown",
   "metadata": {},
   "source": [
    "Inspect null values"
   ]
  },
  {
   "cell_type": "code",
   "execution_count": 42,
   "metadata": {},
   "outputs": [
    {
     "data": {
      "text/plain": [
       "reject_ind                       0\n",
       "LAST_MILE_TIME_PREDICTED         0\n",
       "NUM_PING_COUNT_LAST10MIN         0\n",
       "exp_in_days                      0\n",
       "dist_emp                       156\n",
       "day_of_week                      0\n",
       "ping_time_difference_in_sec      0\n",
       "hour_of_the_day                  0\n",
       "zone_same_or_not                 0\n",
       "01:42                            0\n",
       "05:42                            0\n",
       "06:42                            0\n",
       "08:42                            0\n",
       "11:42                            0\n",
       "dtype: int64"
      ]
     },
     "execution_count": 42,
     "metadata": {},
     "output_type": "execute_result"
    }
   ],
   "source": [
    "df.isna().sum()"
   ]
  },
  {
   "cell_type": "code",
   "execution_count": 43,
   "metadata": {},
   "outputs": [],
   "source": [
    "df['dist_emp'].fillna(df['dist_emp'].mean(),inplace=True)"
   ]
  },
  {
   "cell_type": "code",
   "execution_count": 44,
   "metadata": {},
   "outputs": [
    {
     "data": {
      "text/plain": [
       "reject_ind                     0\n",
       "LAST_MILE_TIME_PREDICTED       0\n",
       "NUM_PING_COUNT_LAST10MIN       0\n",
       "exp_in_days                    0\n",
       "dist_emp                       0\n",
       "day_of_week                    0\n",
       "ping_time_difference_in_sec    0\n",
       "hour_of_the_day                0\n",
       "zone_same_or_not               0\n",
       "01:42                          0\n",
       "05:42                          0\n",
       "06:42                          0\n",
       "08:42                          0\n",
       "11:42                          0\n",
       "dtype: int64"
      ]
     },
     "execution_count": 44,
     "metadata": {},
     "output_type": "execute_result"
    }
   ],
   "source": [
    "df.isna().sum()"
   ]
  },
  {
   "cell_type": "markdown",
   "metadata": {},
   "source": [
    "Final data frame"
   ]
  },
  {
   "cell_type": "code",
   "execution_count": 45,
   "metadata": {},
   "outputs": [
    {
     "data": {
      "text/html": [
       "<div>\n",
       "<style scoped>\n",
       "    .dataframe tbody tr th:only-of-type {\n",
       "        vertical-align: middle;\n",
       "    }\n",
       "\n",
       "    .dataframe tbody tr th {\n",
       "        vertical-align: top;\n",
       "    }\n",
       "\n",
       "    .dataframe thead th {\n",
       "        text-align: right;\n",
       "    }\n",
       "</style>\n",
       "<table border=\"1\" class=\"dataframe\">\n",
       "  <thead>\n",
       "    <tr style=\"text-align: right;\">\n",
       "      <th></th>\n",
       "      <th>reject_ind</th>\n",
       "      <th>LAST_MILE_TIME_PREDICTED</th>\n",
       "      <th>NUM_PING_COUNT_LAST10MIN</th>\n",
       "      <th>exp_in_days</th>\n",
       "      <th>dist_emp</th>\n",
       "      <th>day_of_week</th>\n",
       "      <th>ping_time_difference_in_sec</th>\n",
       "      <th>hour_of_the_day</th>\n",
       "      <th>zone_same_or_not</th>\n",
       "      <th>01:42</th>\n",
       "      <th>05:42</th>\n",
       "      <th>06:42</th>\n",
       "      <th>08:42</th>\n",
       "      <th>11:42</th>\n",
       "    </tr>\n",
       "  </thead>\n",
       "  <tbody>\n",
       "    <tr>\n",
       "      <th>132384</th>\n",
       "      <td>0</td>\n",
       "      <td>360.0</td>\n",
       "      <td>22</td>\n",
       "      <td>594</td>\n",
       "      <td>731.5</td>\n",
       "      <td>1</td>\n",
       "      <td>18</td>\n",
       "      <td>22</td>\n",
       "      <td>1</td>\n",
       "      <td>0</td>\n",
       "      <td>1</td>\n",
       "      <td>0</td>\n",
       "      <td>0</td>\n",
       "      <td>0</td>\n",
       "    </tr>\n",
       "    <tr>\n",
       "      <th>132385</th>\n",
       "      <td>0</td>\n",
       "      <td>458.0</td>\n",
       "      <td>37</td>\n",
       "      <td>580</td>\n",
       "      <td>816.1</td>\n",
       "      <td>2</td>\n",
       "      <td>1</td>\n",
       "      <td>3</td>\n",
       "      <td>1</td>\n",
       "      <td>0</td>\n",
       "      <td>0</td>\n",
       "      <td>1</td>\n",
       "      <td>0</td>\n",
       "      <td>0</td>\n",
       "    </tr>\n",
       "    <tr>\n",
       "      <th>132386</th>\n",
       "      <td>1</td>\n",
       "      <td>458.0</td>\n",
       "      <td>45</td>\n",
       "      <td>467</td>\n",
       "      <td>844.0</td>\n",
       "      <td>2</td>\n",
       "      <td>41</td>\n",
       "      <td>3</td>\n",
       "      <td>0</td>\n",
       "      <td>0</td>\n",
       "      <td>0</td>\n",
       "      <td>1</td>\n",
       "      <td>0</td>\n",
       "      <td>0</td>\n",
       "    </tr>\n",
       "    <tr>\n",
       "      <th>132387</th>\n",
       "      <td>0</td>\n",
       "      <td>371.3</td>\n",
       "      <td>34</td>\n",
       "      <td>1100</td>\n",
       "      <td>822.1</td>\n",
       "      <td>2</td>\n",
       "      <td>16</td>\n",
       "      <td>4</td>\n",
       "      <td>1</td>\n",
       "      <td>0</td>\n",
       "      <td>0</td>\n",
       "      <td>0</td>\n",
       "      <td>1</td>\n",
       "      <td>0</td>\n",
       "    </tr>\n",
       "    <tr>\n",
       "      <th>132388</th>\n",
       "      <td>0</td>\n",
       "      <td>409.7</td>\n",
       "      <td>11</td>\n",
       "      <td>990</td>\n",
       "      <td>826.0</td>\n",
       "      <td>2</td>\n",
       "      <td>42</td>\n",
       "      <td>22</td>\n",
       "      <td>0</td>\n",
       "      <td>0</td>\n",
       "      <td>1</td>\n",
       "      <td>0</td>\n",
       "      <td>0</td>\n",
       "      <td>0</td>\n",
       "    </tr>\n",
       "    <tr>\n",
       "      <th>132389</th>\n",
       "      <td>0</td>\n",
       "      <td>371.8</td>\n",
       "      <td>28</td>\n",
       "      <td>958</td>\n",
       "      <td>839.2</td>\n",
       "      <td>3</td>\n",
       "      <td>55</td>\n",
       "      <td>7</td>\n",
       "      <td>0</td>\n",
       "      <td>0</td>\n",
       "      <td>0</td>\n",
       "      <td>0</td>\n",
       "      <td>0</td>\n",
       "      <td>1</td>\n",
       "    </tr>\n",
       "    <tr>\n",
       "      <th>132390</th>\n",
       "      <td>1</td>\n",
       "      <td>371.8</td>\n",
       "      <td>63</td>\n",
       "      <td>679</td>\n",
       "      <td>849.4</td>\n",
       "      <td>3</td>\n",
       "      <td>40</td>\n",
       "      <td>7</td>\n",
       "      <td>0</td>\n",
       "      <td>0</td>\n",
       "      <td>1</td>\n",
       "      <td>0</td>\n",
       "      <td>0</td>\n",
       "      <td>0</td>\n",
       "    </tr>\n",
       "    <tr>\n",
       "      <th>132391</th>\n",
       "      <td>0</td>\n",
       "      <td>413.2</td>\n",
       "      <td>8</td>\n",
       "      <td>1081</td>\n",
       "      <td>810.4</td>\n",
       "      <td>3</td>\n",
       "      <td>115</td>\n",
       "      <td>20</td>\n",
       "      <td>0</td>\n",
       "      <td>0</td>\n",
       "      <td>1</td>\n",
       "      <td>0</td>\n",
       "      <td>0</td>\n",
       "      <td>0</td>\n",
       "    </tr>\n",
       "    <tr>\n",
       "      <th>132392</th>\n",
       "      <td>0</td>\n",
       "      <td>317.7</td>\n",
       "      <td>28</td>\n",
       "      <td>1001</td>\n",
       "      <td>719.5</td>\n",
       "      <td>3</td>\n",
       "      <td>6</td>\n",
       "      <td>23</td>\n",
       "      <td>0</td>\n",
       "      <td>1</td>\n",
       "      <td>0</td>\n",
       "      <td>0</td>\n",
       "      <td>0</td>\n",
       "      <td>0</td>\n",
       "    </tr>\n",
       "    <tr>\n",
       "      <th>132393</th>\n",
       "      <td>0</td>\n",
       "      <td>396.8</td>\n",
       "      <td>27</td>\n",
       "      <td>493</td>\n",
       "      <td>766.6</td>\n",
       "      <td>4</td>\n",
       "      <td>64</td>\n",
       "      <td>2</td>\n",
       "      <td>1</td>\n",
       "      <td>0</td>\n",
       "      <td>1</td>\n",
       "      <td>0</td>\n",
       "      <td>0</td>\n",
       "      <td>0</td>\n",
       "    </tr>\n",
       "  </tbody>\n",
       "</table>\n",
       "</div>"
      ],
      "text/plain": [
       "        reject_ind  LAST_MILE_TIME_PREDICTED  NUM_PING_COUNT_LAST10MIN  \\\n",
       "132384           0                     360.0                        22   \n",
       "132385           0                     458.0                        37   \n",
       "132386           1                     458.0                        45   \n",
       "132387           0                     371.3                        34   \n",
       "132388           0                     409.7                        11   \n",
       "132389           0                     371.8                        28   \n",
       "132390           1                     371.8                        63   \n",
       "132391           0                     413.2                         8   \n",
       "132392           0                     317.7                        28   \n",
       "132393           0                     396.8                        27   \n",
       "\n",
       "        exp_in_days  dist_emp  day_of_week  ping_time_difference_in_sec  \\\n",
       "132384          594     731.5            1                           18   \n",
       "132385          580     816.1            2                            1   \n",
       "132386          467     844.0            2                           41   \n",
       "132387         1100     822.1            2                           16   \n",
       "132388          990     826.0            2                           42   \n",
       "132389          958     839.2            3                           55   \n",
       "132390          679     849.4            3                           40   \n",
       "132391         1081     810.4            3                          115   \n",
       "132392         1001     719.5            3                            6   \n",
       "132393          493     766.6            4                           64   \n",
       "\n",
       "        hour_of_the_day  zone_same_or_not  01:42  05:42  06:42  08:42  11:42  \n",
       "132384               22                 1      0      1      0      0      0  \n",
       "132385                3                 1      0      0      1      0      0  \n",
       "132386                3                 0      0      0      1      0      0  \n",
       "132387                4                 1      0      0      0      1      0  \n",
       "132388               22                 0      0      1      0      0      0  \n",
       "132389                7                 0      0      0      0      0      1  \n",
       "132390                7                 0      0      1      0      0      0  \n",
       "132391               20                 0      0      1      0      0      0  \n",
       "132392               23                 0      1      0      0      0      0  \n",
       "132393                2                 1      0      1      0      0      0  "
      ]
     },
     "execution_count": 45,
     "metadata": {},
     "output_type": "execute_result"
    }
   ],
   "source": [
    "df.tail(10)"
   ]
  },
  {
   "cell_type": "markdown",
   "metadata": {},
   "source": [
    "Now let's see the distribution of both the classes"
   ]
  },
  {
   "cell_type": "code",
   "execution_count": 46,
   "metadata": {},
   "outputs": [
    {
     "data": {
      "text/plain": [
       "0    124346\n",
       "1      8048\n",
       "Name: reject_ind, dtype: int64"
      ]
     },
     "execution_count": 46,
     "metadata": {},
     "output_type": "execute_result"
    }
   ],
   "source": [
    "df['reject_ind'].value_counts()\n",
    "# We can see that there is a huge imbalance in distribution of the classes"
   ]
  },
  {
   "cell_type": "markdown",
   "metadata": {},
   "source": [
    "Splitting our data into train and test data"
   ]
  },
  {
   "cell_type": "code",
   "execution_count": 59,
   "metadata": {},
   "outputs": [],
   "source": [
    "from sklearn.model_selection import train_test_split\n",
    "x_train,x_test,y_train,y_test=train_test_split(df.drop(\"reject_ind\",axis=1),df['reject_ind'],test_size=0.1,random_state=20)"
   ]
  },
  {
   "cell_type": "code",
   "execution_count": 60,
   "metadata": {},
   "outputs": [],
   "source": [
    "from sklearn.ensemble import RandomForestClassifier"
   ]
  },
  {
   "cell_type": "markdown",
   "metadata": {},
   "source": [
    "# Model training"
   ]
  },
  {
   "cell_type": "code",
   "execution_count": 61,
   "metadata": {},
   "outputs": [],
   "source": [
    "model=RandomForestClassifier(n_jobs=-1,class_weight='balanced',min_samples_split=10,random_state=42)"
   ]
  },
  {
   "cell_type": "code",
   "execution_count": 62,
   "metadata": {},
   "outputs": [
    {
     "data": {
      "text/plain": [
       "RandomForestClassifier(class_weight='balanced', min_samples_split=10, n_jobs=-1,\n",
       "                       random_state=42)"
      ]
     },
     "execution_count": 62,
     "metadata": {},
     "output_type": "execute_result"
    }
   ],
   "source": [
    "model.fit(x_train,y_train)"
   ]
  },
  {
   "cell_type": "code",
   "execution_count": 63,
   "metadata": {},
   "outputs": [
    {
     "name": "stdout",
     "output_type": "stream",
     "text": [
      "Accuracy:  0.9578549848942598\n",
      "F1-Score:  0.9505714646172723\n"
     ]
    }
   ],
   "source": [
    "res=model.predict(x_test)\n",
    "print('Accuracy: ',accuracy_score(y_test,res))\n",
    "print('F1-Score: ',f1_score(y_test,res,average='weighted'))"
   ]
  },
  {
   "cell_type": "code",
   "execution_count": 64,
   "metadata": {},
   "outputs": [
    {
     "name": "stdout",
     "output_type": "stream",
     "text": [
      "ROC-AUC Score:  0.8222164084536654\n"
     ]
    }
   ],
   "source": [
    "probabilities=model.predict_proba(x_test)\n",
    "y_pred=probabilities[:,1]\n",
    "print('ROC-AUC Score: ',roc_auc_score(y_test,y_pred))"
   ]
  },
  {
   "cell_type": "markdown",
   "metadata": {},
   "source": [
    "On the Test Set, we have accuracy and F1-scores of 95.7 and 95.1 respectively."
   ]
  },
  {
   "cell_type": "markdown",
   "metadata": {},
   "source": [
    "ROC-AUC Score tells us how well the model is good at differentiating between both the classes. We have an ROC-AUC Score of 82.2\n",
    "which is very good considering the huge imbalance we have in our dataset."
   ]
  }
 ],
 "metadata": {
  "kernelspec": {
   "display_name": "Python 3",
   "language": "python",
   "name": "python3"
  },
  "language_info": {
   "codemirror_mode": {
    "name": "ipython",
    "version": 3
   },
   "file_extension": ".py",
   "mimetype": "text/x-python",
   "name": "python",
   "nbconvert_exporter": "python",
   "pygments_lexer": "ipython3",
   "version": "3.8.5"
  }
 },
 "nbformat": 4,
 "nbformat_minor": 4
}
